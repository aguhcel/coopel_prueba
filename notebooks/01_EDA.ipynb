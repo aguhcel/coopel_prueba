{
  "cells": [
    {
      "cell_type": "code",
      "execution_count": null,
      "metadata": {},
      "outputs": [],
      "source": [
        "import pandas as pd\n",
        "\n",
        "from ydata_profiling import ProfileReport"
      ]
    },
    {
      "cell_type": "code",
      "execution_count": null,
      "metadata": {
        "colab": {
          "base_uri": "https://localhost:8080/"
        },
        "id": "7xd_EwXsZE26",
        "outputId": "5e3c1182-fff3-4cef-89af-e5342b9bf4d5"
      },
      "outputs": [],
      "source": [
        "\n",
        "# Cargar los datos\n",
        "try:\n",
        "    df = pd.read_csv('../data/transacciones_retail.csv', encoding='utf-8')\n",
        "except UnicodeDecodeError:\n",
        "    print(\"except\")\n",
        "    df = pd.read_csv('../data/transacciones_retail.csv', encoding='ISO-8859-1')\n",
        "\n",
        "print(\"Datos cargados exitosamente.\")\n",
        "print(\"Forma del dataset:\", df.shape)\n",
        "print(\"\\nPrimeras 5 filas:\")\n",
        "print(df.head())\n",
        "\n",
        "print(\"\\n--- OBJETIVO DEL NEGOCIO ---\")\n",
        "print(\"El objetivo es construir un modelo que pueda predecir si un cliente existente volverá a comprar en el futuro.\")\n",
        "print(\"Se debe realizar un análisis de los datos para entenderlos, limpiarlos y transformarlos en un formato adecuado para un modelo de Machine Learning.\")\n",
        "print(\"Tu tarea es diseñar y construir todo el pipeline para llevar esta idea a producción.\")"
      ]
    },
    {
      "cell_type": "code",
      "execution_count": null,
      "metadata": {},
      "outputs": [],
      "source": [
        "report = ProfileReport(df, title=\"Report of Transctions Retail\")\n"
      ]
    },
    {
      "cell_type": "code",
      "execution_count": null,
      "metadata": {},
      "outputs": [],
      "source": [
        "report.to_file(\"../reports/report.html\")"
      ]
    },
    {
      "cell_type": "markdown",
      "metadata": {},
      "source": [
        "De acuerdo con el reporte obtenido, podemos observar varias cosas sobre el conjunto de datos:\n",
        "\n",
        "1. El dataset contiene datos duplicados.\n",
        "2. La columna 'Country', esta desbalanceada.\n",
        "3. La columna 'CustomerID' tiene datos faltantes.\n",
        "4. La columna 'UnitPrice' esta altamente sesgada a la derecha (γ1 = 186.50).\n",
        "\n",
        "<img src=\"../reports/imgs/alerts.png\" alt=\"Alertas\">"
      ]
    }
  ],
  "metadata": {
    "colab": {
      "provenance": []
    },
    "kernelspec": {
      "display_name": "venv",
      "language": "python",
      "name": "python3"
    },
    "language_info": {
      "codemirror_mode": {
        "name": "ipython",
        "version": 3
      },
      "file_extension": ".py",
      "mimetype": "text/x-python",
      "name": "python",
      "nbconvert_exporter": "python",
      "pygments_lexer": "ipython3",
      "version": "3.12.10"
    }
  },
  "nbformat": 4,
  "nbformat_minor": 0
}
